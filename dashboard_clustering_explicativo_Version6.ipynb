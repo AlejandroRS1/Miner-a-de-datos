{
 "cells": [
  {
   "cell_type": "markdown",
   "metadata": {},
   "source": [
    "# Dashboard Explicativo de Clustering de Clientes\n",
    "Incluye KPIs, EDA visual, clustering, interpretación de tópicos, callbacks y paneles intuitivos. Ajustado para evitar errores de formato."
   ]
  },
  {
   "cell_type": "code",
   "metadata": {},
   "source": [
    "import pandas as pd\n",
    "import numpy as np\n",
    "import matplotlib.pyplot as plt\n",
    "import seaborn as sns\n",
    "from sklearn.preprocessing import StandardScaler\n",
    "from sklearn.decomposition import PCA, NMF\n",
    "from sklearn.cluster import KMeans\n",
    "from sklearn.metrics import silhouette_score\n",
    "import plotly.express as px\n",
    "import plotly.graph_objects as go\n",
    "import dash\n",
    "from dash import dcc, html, Input, Output, dash_table\n",
    "import dash_bootstrap_components as dbc\n",
    "from scipy.stats import entropy\n",
    "import datetime as dt\n",
    "import warnings\n",
    "warnings.filterwarnings('ignore')"
   ],
   "execution_count": null,
   "outputs": []
  },
  {
   "cell_type": "markdown",
   "metadata": {},
   "source": [
    "## 1. Carga de datos y EDA básico"
   ]
  },
  {
   "cell_type": "code",
   "metadata": {},
   "source": [
    "file_path = \"Data_Set_Global.xlsx\"\n",
    "pedidos = pd.read_excel(file_path, sheet_name=\"Pedidos\")\n",
    "pedidos[\"total_price\"] = pedidos[\"quantity\"] * pedidos[\"unit_price\"]\n",
    "pedidos[\"order_date\"] = pd.to_datetime(pedidos[\"order_date\"])\n",
    "pedidos[\"promised_delivery_time\"] = pd.to_datetime(pedidos[\"promised_delivery_time\"])\n",
    "pedidos[\"actual_delivery_time\"] = pd.to_datetime(pedidos[\"actual_delivery_time\"])\n",
    "pedidos[\"delivery_delay_min\"] = (\n",
    "    (pedidos[\"actual_delivery_time\"] - pedidos[\"promised_delivery_time\"]).dt.total_seconds() / 60\n",
    ")\n",
    "pedidos = pedidos.dropna(subset=[\"order_id\", \"customer_id\", \"order_date\"]).copy()"
   ],
   "execution_count": null,
   "outputs": []
  },
  {
   "cell_type": "markdown",
   "metadata": {},
   "source": [
    "## 2. KPIs generales"
   ]
  },
  {
   "cell_type": "code",
   "metadata": {},
   "source": [
    "kpi_dict = {\n",
    "    \"Total Clientes\": pedidos[\"customer_id\"].nunique(),\n",
    "    \"Total Órdenes\": pedidos[\"order_id\"].nunique(),\n",
    "    \"Total Productos\": pedidos[\"product_id\"].nunique(),\n",
    "    \"Facturación Total\": pedidos[\"total_price\"].sum(),\n",
    "    \"Periodos Analizados\": f\"{pedidos['order_date'].min().date()} a {pedidos['order_date'].max().date()}\"\n",
    "}"
   ],
   "execution_count": null,
   "outputs": []
  },
  {
   "cell_type": "markdown",
   "metadata": {},
   "source": [
    "## 3. EDA visual y descriptivo"
   ]
  },
  {
   "cell_type": "code",
   "metadata": {},
   "source": [
    "# Distribución de órdenes por segmento\n",
    "df_seg = pedidos.groupby(\"customer_segment\")[\"order_id\"].count().reset_index()\n",
    "fig_bar_segment = px.bar(df_seg, x=\"customer_segment\", y=\"order_id\", text=\"order_id\",\n",
    "                        labels={\"order_id\": \"# Órdenes\"}, title=\"Órdenes por Segmento de Cliente\")\n",
    "\n",
    "# Top 5 productos por segmento\n",
    "N = 5\n",
    "topN = (\n",
    "    pedidos.groupby([\"customer_segment\", \"product_name\"])\n",
    "    .size().groupby(level=0, group_keys=False).nlargest(N)\n",
    "    .reset_index(name=\"compras\")\n",
    ")\n",
    "top5_prod_segment = {}\n",
    "for seg in topN[\"customer_segment\"].unique():\n",
    "    top5_prod_segment[seg] = topN[topN[\"customer_segment\"] == seg][[\"product_name\", \"compras\"]].to_dict('records')\n",
    "\n",
    "# Correlación de numéricas\n",
    "num_cols = pedidos.select_dtypes(\"number\").columns\n",
    "corr = pedidos[num_cols].corr()\n",
    "fig_corr = px.imshow(corr, color_continuous_scale='RdBu', title=\"Matriz de Correlación Variables Numéricas\")\n",
    "\n",
    "# Histograma de demoras\n",
    "fig_delay = px.histogram(pedidos, x=\"delivery_delay_min\", nbins=50, title=\"Demora de entrega (min)\")\n",
    "\n",
    "# Conversión: días a primera compra\n",
    "agg = (\n",
    "    pedidos.groupby(\"customer_id\")\n",
    "    .agg(\n",
    "        first_order=(\"order_date\", \"min\"),\n",
    "        registration_date=(\"registration_date\", \"first\")\n",
    "    ).reset_index()\n",
    ")\n",
    "agg[\"days_to_first\"] = (agg[\"first_order\"] - agg[\"registration_date\"]).dt.days\n",
    "fig_conversion = px.histogram(agg, x=\"days_to_first\", nbins=30, title=\"Días hasta primera compra\")"
   ],
   "execution_count": null,
   "outputs": []
  },
  {
   "cell_type": "markdown",
   "metadata": {},
   "source": [
    "## 4. Variables para clustering"
   ]
  },
  {
   "cell_type": "code",
   "metadata": {},
   "source": [
    "# RFM\n",
    "snapshot_date = pedidos[\"order_date\"].max() + dt.timedelta(days=1)\n",
    "rfm = pedidos.groupby(\"customer_id\").agg(\n",
    "    recency=(\"order_date\", lambda date: (snapshot_date - date.max()).days),\n",
    "    frequency=(\"order_id\", \"nunique\"),\n",
    "    monetary=(\"total_price\", \"sum\")\n",
    ")\n",
    "scaler_rfm = StandardScaler()\n",
    "rfm_z = pd.DataFrame(scaler_rfm.fit_transform(rfm), index=rfm.index, columns=[c+\"_z\" for c in rfm.columns])\n",
    "\n",
    "# Entropía de pago\n",
    "pay_counts = pedidos.groupby([\"customer_id\", \"payment_method\"]).size().unstack(fill_value=0)\n",
    "pay_probs = pay_counts.div(pay_counts.sum(axis=1), axis=0)\n",
    "payment_entropy = pay_probs.apply(lambda row: entropy(row, base=2), axis=1)\n",
    "customer_payment_diversity = payment_entropy.rename(\"payment_entropy\").reset_index()\n",
    "\n",
    "# NMF tópicos cliente-producto\n",
    "cust_prod = pedidos.groupby([\"customer_id\", \"product_id\"]).size().unstack(fill_value=0)\n",
    "K = 10\n",
    "nmf = NMF(n_components=K, init=\"random\", random_state=42)\n",
    "W = nmf.fit_transform(cust_prod)\n",
    "H = nmf.components_\n",
    "customer_topics = pd.DataFrame(W, index=cust_prod.index, columns=[f\"topic_{i+1}\" for i in range(K)])\n",
    "\n",
    "# Matriz final para clustering\n",
    "full_df = (\n",
    "    rfm_z\n",
    "    .join(customer_payment_diversity.set_index(\"customer_id\"))\n",
    "    .join(customer_topics)\n",
    ").fillna(0)\n",
    "X_scaled = StandardScaler().fit_transform(full_df.select_dtypes(include=np.number))"
   ],
   "execution_count": null,
   "outputs": []
  },
  {
   "cell_type": "markdown",
   "metadata": {},
   "source": [
    "## 5. Clustering final"
   ]
  },
  {
   "cell_type": "code",
   "metadata": {},
   "source": [
    "K_OPT = 3\n",
    "kmeans = KMeans(n_clusters=K_OPT, random_state=42, n_init=10)\n",
    "cluster_labels = kmeans.fit_predict(X_scaled)\n",
    "full_df[\"cluster\"] = cluster_labels\n",
    "full_df.index.name = \"customer_id\"\n",
    "profile_cols = [c for c in full_df.columns if c.startswith(('recency','frequency','monetary','payment_entropy','topic_'))]\n",
    "cluster_profile = (\n",
    "    full_df.groupby(\"cluster\")[profile_cols]\n",
    "    .mean().round(2)\n",
    ")\n",
    "cluster_size = full_df[\"cluster\"].value_counts().sort_index()"
   ],
   "execution_count": null,
   "outputs": []
  },
  {
   "cell_type": "markdown",
   "metadata": {},
   "source": [
    "## 6. Interpretación de tópicos"
   ]
  },
  {
   "cell_type": "code",
   "metadata": {},
   "source": [
    "product_ids = cust_prod.columns\n",
    "prod_meta = pd.read_excel(file_path, sheet_name=\"Productos\").set_index(\"product_id\")\n",
    "top_words_topic = {}\n",
    "for i, topic in enumerate(H):\n",
    "    top_ids = np.argsort(topic)[-5:][::-1]\n",
    "    top_names = prod_meta.loc[product_ids[top_ids], \"product_name\"].tolist()\n",
    "    top_words_topic[f\"topic_{i+1}\"] = top_names"
   ],
   "execution_count": null,
   "outputs": []
  },
  {
   "cell_type": "markdown",
   "metadata": {},
   "source": [
    "## 7. Dashboard interactivo"
   ]
  },
  {
   "cell_type": "code",
   "metadata": {},
   "source": [
    "app = dash.Dash(__name__, external_stylesheets=[dbc.themes.MINTY])\n",
    "app.layout = dbc.Container([\n",
    "    html.H2(\"Dashboard de Segmentación de Clientes\", style={\"marginTop\": 15}),\n",
    "    html.Hr(),\n",
    "    dbc.Row([\n",
    "        dbc.Col(\n",
    "            dbc.Card([\n",
    "                dbc.CardHeader(k),\n",
    "                dbc.CardBody(html.H5(f\"{v:,}\" if isinstance(v, (int, float)) else str(v)))\n",
    "            ]), width=3\n",
    "        ) for k, v in kpi_dict.items()\n",
    "    ]),\n",
    "    html.Br(),\n",
    "    html.H3(\"Análisis Exploratorio de los Datos (EDA)\"),\n",
    "    html.P(\"\"\"Se exploran patrones de compra, productos más vendidos, correlaciones y tiempos clave para contextualizar la segmentación posterior.\"\"\"),\n",
    "    dbc.Row([\n",
    "        dbc.Col([dcc.Graph(figure=fig_bar_segment)], width=6),\n",
    "        dbc.Col([dcc.Graph(figure=fig_corr)], width=6),\n",
    "    ]),\n",
    "    dbc.Row([\n",
    "        dbc.Col([dcc.Graph(figure=fig_delay)], width=6),\n",
    "        dbc.Col([dcc.Graph(figure=fig_conversion)], width=6),\n",
    "    ]),\n",
    "    html.Br(),\n",
    "    html.H5(\"Top 5 productos por segmento de cliente\"),\n",
    "    html.Ul([\n",
    "        html.Li([\n",
    "            html.B(f\"Segmento {seg}: \"), \n",
    "            ', '.join([f\"{d['product_name']} ({d['compras']})\" for d in lst])\n",
    "        ]) for seg, lst in top5_prod_segment.items()\n",
    "    ]),\n",
    "    html.Hr(),\n",
    "    html.H3(\"Clustering & Segmentación de Clientes\"),\n",
    "    html.P(\"\"\"Se aplicó KMeans sobre variables RFM, entropía y tópicos NMF. El número óptimo de clusters es 3, balanceando interpretabilidad y robustez estadística. El gráfico PCA muestra la separación de clusters en 2D.\"\"\"),\n",
    "    dcc.Graph(\n",
    "        figure=px.scatter(\n",
    "            x=PCA(n_components=2).fit_transform(X_scaled)[:,0],\n",
    "            y=PCA(n_components=2).fit_transform(X_scaled)[:,1],\n",
    "            color=full_df[\"cluster\"].astype(str),\n",
    "            title=\"Clusters en espacio PCA (2D)\",\n",
    "            labels={\"x\": \"PCA1\", \"y\": \"PCA2\", \"color\": \"Cluster\"},\n",
    "            hover_data={\"customer_id\": full_df.index}\n",
    "        )\n",
    "    ),\n",
    "    html.H5(\"Tamaño de cada cluster\"),\n",
    "    dcc.Graph(figure=px.bar(x=cluster_size.index.astype(str), y=cluster_size.values, labels={'x':'Cluster','y':'#Clientes'})),\n",
    "    html.Hr(),\n",
    "    html.H4(\"Resumen descriptivo de clusters\"),\n",
    "    html.P(\"\"\"La tabla muestra los valores promedio de cada variable (RFM, entropía y tópicos) en cada cluster. Así puedes ver qué distingue a cada segmento.\"\"\"),\n",
    "    dash_table.DataTable(\n",
    "        columns=[{\"name\": i, \"id\": i} for i in cluster_profile.columns],\n",
    "        data=cluster_profile.reset_index().to_dict('records'),\n",
    "        style_table={'width': '100%'}, style_cell={'textAlign': 'center'},\n",
    "        page_size=10\n",
    "    ),\n",
    "    html.Br(),\n",
    "    html.H4(\"Distribución de tópicos en clusters (boxplot interactivo)\"),\n",
    "    html.P(\"\"\"Selecciona un tópico para explorar su distribución por cluster. Los tópicos resumen patrones de consumo comunes extraídos automáticamente.\"\"\"),\n",
    "    dcc.Dropdown(\n",
    "        id='topic-dropdown',\n",
    "        options=[{\"label\": t, \"value\": t} for t in customer_topics.columns],\n",
    "        value=customer_topics.columns[0],\n",
    "        clearable=False\n",
    "    ),\n",
    "    dcc.Graph(id='topic-box'),\n",
    "    html.Hr(),\n",
    "    html.H4(\"Interpretación de tópicos NMF\"),\n",
    "    html.P(\"\"\"Cada tópico representa un patrón de consumo distinto. La tabla muestra los productos más representativos de cada tópico.\"\"\"),\n",
    "    dash_table.DataTable(\n",
    "        columns=[{\"name\": k, \"id\": k} for k in top_words_topic.keys()],\n",
    "        data=[{k: ', '.join(v) for k, v in top_words_topic.items()}],\n",
    "        style_table={'width': '100%'}, style_cell={'textAlign': 'left'},\n",
    "    ),\n",
    "    html.Hr(),\n",
    "    html.H4(\"Detalle de clientes (filtrable por cluster)\"),\n",
    "    dcc.Dropdown(\n",
    "        id='dropdown-cluster',\n",
    "        options=[{\"label\": str(c), \"value\": str(c)} for c in sorted(full_df['cluster'].unique())],\n",
    "        value=None, clearable=True, placeholder='Filtrar por cluster...'\n",
    "    ),\n",
    "    dash_table.DataTable(\n",
    "        id='clientes-table',\n",
    "        columns=[{\"name\": i, \"id\": i} for i in [\"recency_z\",\"frequency_z\",\"monetary_z\",\"payment_entropy\"]+list(customer_topics.columns)+[\"cluster\"]],\n",
    "        data=full_df.reset_index().to_dict('records'),\n",
    "        page_size=12, filter_action=\"native\", sort_action=\"native\", style_table={'overflowX': 'auto'}, style_cell={'textAlign': 'center'}\n",
    "    ),\n",
    "], fluid=True)\n",
    "\n",
    "# Callbacks interactivos para boxplot de tópicos y filtrado de clientes\n",
    "@app.callback(\n",
    "    Output('topic-box', 'figure'),\n",
    "    Input('topic-dropdown', 'value')\n",
    ")\n",
    "def update_topic_box(topic):\n",
    "    fig = px.box(full_df.reset_index(), x=full_df['cluster'].astype(str), y=topic, points='all',\n",
    "                title=f\"Boxplot de {topic} por cluster\", labels={\"x\": \"Cluster\", \"y\": topic})\n",
    "    return fig\n",
    "\n",
    "@app.callback(\n",
    "    Output('clientes-table', 'data'),\n",
    "    Input('dropdown-cluster', 'value')\n",
    ")\n",
    "def update_table(cluster_val):\n",
    "    df = full_df.reset_index()\n",
    "    if cluster_val is not None:\n",
    "        df = df[df['cluster'] == int(cluster_val)]\n",
    "    return df[[\"recency_z\",\"frequency_z\",\"monetary_z\",\"payment_entropy\"]+list(customer_topics.columns)+[\"cluster\"]].to_dict('records')\n",
    "\n",
    "# Para lanzar el dashboard, descomenta y ejecuta:\n",
    "# app.run(debug=True, port=8051)\n",
    "# Y abre: http://127.0.0.1:8051/"
   ],
   "execution_count": null,
   "outputs": []
  }
 ],
 "metadata": {
  "kernelspec": {
   "display_name": "Python 3",
   "language": "python",
   "name": "python3"
  },
  "language_info": {
   "name": "python",
   "version": "3.10"
  }
 },
 "nbformat": 4,
 "nbformat_minor": 5
}